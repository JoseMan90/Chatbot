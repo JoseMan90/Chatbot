{
 "cells": [
  {
   "cell_type": "code",
   "execution_count": 1,
   "metadata": {
    "collapsed": true
   },
   "outputs": [],
   "source": [
    "import telebot\n",
    "import time # Librería para hacer que el programa que controla el bot no se acabe.\n",
    "TOKEN = '809030422:AAEGpaQFqNdgmJLfJZbuuQvouLhjaG7GFYc' # Nuestro token del bot.\n",
    "AYUDA = 'Puedes utilizar los siguientes comandos : \\n\\n/ayuda - Guia para utilizar el bot. \\n/info - Informacion De interes \\n/hola - Saludo del Bot \\n/piensa3D - Informacion sobre Piensa3D \\n\\n'"
   ]
  },
  {
   "cell_type": "code",
   "execution_count": 2,
   "metadata": {
    "collapsed": true
   },
   "outputs": [],
   "source": [
    "bot = telebot.TeleBot(TOKEN)"
   ]
  },
  {
   "cell_type": "code",
   "execution_count": 3,
   "metadata": {
    "collapsed": true
   },
   "outputs": [],
   "source": [
    "import telegram\n",
    "from telegram.ext import Updater\n",
    "from telegram.ext import CommandHandler"
   ]
  },
  {
   "cell_type": "code",
   "execution_count": 4,
   "metadata": {
    "collapsed": true
   },
   "outputs": [],
   "source": [
    "#Creamos nuestra instancia \"mi_bot\" a partir de ese TOKEN\n",
    "mi_bot = telegram.Bot(token=TOKEN)\n",
    "mi_bot_updater = Updater(mi_bot.token)"
   ]
  },
  {
   "cell_type": "code",
   "execution_count": 5,
   "metadata": {
    "collapsed": true
   },
   "outputs": [],
   "source": [
    "def start(bot=mi_bot, update=mi_bot_updater):\n",
    "    print(\"Iniciada conversación: \")\n",
    "    print(update.message.chat_id)\n",
    "    bot.sendMessage(chat_id=update.message.chat_id, text=\"Hola, soy tu bot!!!\")\n",
    "\n",
    "# Handle para la ayuda /?\n",
    "def ayuda(bot=mi_bot, update=mi_bot_updater):\n",
    "    print(\"Solicita ayuda\")\n",
    "    bot.sendMessage(chat_id=update.message.chat_id, text=Ayuda)"
   ]
  },
  {
   "cell_type": "code",
   "execution_count": 6,
   "metadata": {
    "collapsed": true
   },
   "outputs": [],
   "source": [
    "#Definimos para cada comando la función que atenderá la peticion\n",
    "start_handler = CommandHandler('start', start)\n",
    "ayuda_handler = CommandHandler('?', ayuda)"
   ]
  },
  {
   "cell_type": "code",
   "execution_count": 7,
   "metadata": {
    "collapsed": true
   },
   "outputs": [],
   "source": [
    "Clientes = {}\n",
    "def NuevoCliente(bot=mi_bot, update=mi_bot_updater):\n",
    "    Nuevo_Cliente = Cliente(bot,update)\n",
    "    Clientes[update.message.chat_id] = Nuevo_Cliente\n",
    "    bot.sendMessage(chat_id=update.message.chat_id, text=\"No tengo mucho que ofrecerte por ahora......\")\n",
    "    Cliente.PrintSeleccion()"
   ]
  },
  {
   "cell_type": "code",
   "execution_count": 8,
   "metadata": {
    "collapsed": true
   },
   "outputs": [],
   "source": [
    "class Cliente:\n",
    "    def __init__(self, bot, update, nombre):\n",
    "        self.platos_elegidos = {}\n",
    "        self.precio = 0\n",
    "        self.ver_alergenos = False\n",
    "        self.ver_ingredientes = False\n",
    "        self.nombre = nombre\n",
    "        self.bot = bot\n",
    "        self.update = update\n",
    "        \n",
    "    def PrintSeleccion(self):\n",
    "        if len(self.platos_elegidos)==0:\n",
    "            print('Platos elegidos:')\n",
    "            mensaje = 'No ha elegido platos. \\n'\n",
    "        else:\n",
    "            mensaje = 'Platos elegidos:\\n'\n",
    "            for plato in self.platos_elegidos.keys():\n",
    "                mensaje += ' -'+plato.capitalize()+' x'+str(self.platos_elegidos[plato])+'\\n'\n",
    "                \n",
    "                if self.ver_ingredientes:\n",
    "                    Ingredientes = carta.loc[plato,'ingredientes']\n",
    "                    if len(Ingredientes)> 0:\n",
    "                        mensaje += 'Ingredientes: '\n",
    "                        for ing in Ingredientes:\n",
    "                            mensaje += ing.capitalize() +'. '\n",
    "                        mensaje += '\\n'\n",
    "                    \n",
    "                if self.ver_alergenos:\n",
    "                    Alergenos = carta.loc[plato,'alergenos']\n",
    "                    if len(Alergenos) > 0:\n",
    "                        mensaje += 'Alergenos: '\n",
    "                        for al in Alergenos:\n",
    "                            mensaje += al.capitalize() +'. '\n",
    "                        mensaje += '\\n'\n",
    "                    \n",
    "                \n",
    "                    \n",
    "            mensaje += '-'*20+'\\n'\n",
    "            mensaje += 'Precio: '+str(self.precio)+' €'\n",
    "        # Enviamos la respuesta\n",
    "        self.bot.sendMessage(chat_id=self.update.message.chat_id, text=mensaje)\n",
    "        \n",
    "    def AñadirPlato(self,plato,cantidad):\n",
    "        # plato --> Plato elegido\n",
    "        # cantidad --> Veces que se ha pedido\n",
    "        if plato in self.platos_elegidos.keys():\n",
    "            self.platos_elegidos[plato] += cantidad\n",
    "        else:\n",
    "            self.platos_elegidos[plato] = cantidad #Solo lo ha pedido una vez\n",
    "        #Actualizamos el precio del pedido\n",
    "        self.precio += cantidad*carta.loc[plato,'precio']\n",
    "        \n",
    "        if cantidad ==1:\n",
    "            self.bot.sendMessage(chat_id=self.update.message.chat_id, text='Se ha añadido a la cesta una unidad de '+plato)\n",
    "        else:\n",
    "            self.bot.sendMessage(chat_id=self.update.message.chat_id, text='Se han añadido a la cesta '+str(cantidad)+' unidades de '+plato)\n",
    "        \n",
    "    "
   ]
  },
  {
   "cell_type": "code",
   "execution_count": 9,
   "metadata": {
    "collapsed": true
   },
   "outputs": [],
   "source": [
    "def RegistrarCliente(bot=mi_bot, update=mi_bot_updater):\n",
    "    ClienteId = update.message.chat_id\n",
    "    if update.message.chat_id in Clientes.keys():\n",
    "        bot.sendMessage(chat_id=update.message.chat_id, text=\"Ya se encuentra registrado.\")\n",
    "    else:\n",
    "        #Introducimos el nombre\n",
    "        Nuevo_Cliente = Cliente(bot,update,nombre = update.message.from_user.full_name)\n",
    "        Clientes[update.message.chat_id] = Nuevo_Cliente\n",
    "        bot.sendMessage(chat_id=update.message.chat_id, text=\"Se le ha registrado con exito.\")"
   ]
  },
  {
   "cell_type": "code",
   "execution_count": 10,
   "metadata": {
    "collapsed": true
   },
   "outputs": [],
   "source": [
    "def ayuda(bot=mi_bot, update=mi_bot_updater):\n",
    "    print('Help!!!')\n",
    "    bot.sendMessage(chat_id=update.message.chat_id, text=AYUDA)"
   ]
  },
  {
   "cell_type": "code",
   "execution_count": 13,
   "metadata": {
    "collapsed": true
   },
   "outputs": [],
   "source": [
    "import pandas as pd\n",
    "\n",
    "carta = pd.DataFrame({'nombre' : ['Chuletas con patatas','queso frito','Paella Valenciana','Flan','Cocacola'],\n",
    "                     'precio' : [13,4,5,2,1.2],\n",
    "                     'categorias' : ['segundo','entrante','primero','postre','bebida'],\n",
    "                     'ingredientes' : [['Chuletas','patatas'],\n",
    "                                       ['Queso'],\n",
    "                                       ['Arroz','cosas'],\n",
    "                                       ['huevo','cosas que llevan los flanes'],\n",
    "                                       []],\n",
    "                     'alergenos' : [[],\n",
    "                                    ['lactosa'],\n",
    "                                    ['gluten'],\n",
    "                                    [],\n",
    "                                    []]})\n",
    "carta = carta.set_index('nombre')\n",
    "carta = carta.sort_index()"
   ]
  },
  {
   "cell_type": "code",
   "execution_count": null,
   "metadata": {},
   "outputs": [],
   "source": []
  },
  {
   "cell_type": "code",
   "execution_count": 14,
   "metadata": {
    "collapsed": true
   },
   "outputs": [
    {
     "data": {
      "text/html": [
       "<div>\n",
       "<style scoped>\n",
       "    .dataframe tbody tr th:only-of-type {\n",
       "        vertical-align: middle;\n",
       "    }\n",
       "\n",
       "    .dataframe tbody tr th {\n",
       "        vertical-align: top;\n",
       "    }\n",
       "\n",
       "    .dataframe thead th {\n",
       "        text-align: right;\n",
       "    }\n",
       "</style>\n",
       "<table border=\"1\" class=\"dataframe\">\n",
       "  <thead>\n",
       "    <tr style=\"text-align: right;\">\n",
       "      <th></th>\n",
       "      <th>precio</th>\n",
       "      <th>categorias</th>\n",
       "      <th>ingredientes</th>\n",
       "      <th>alergenos</th>\n",
       "    </tr>\n",
       "    <tr>\n",
       "      <th>nombre</th>\n",
       "      <th></th>\n",
       "      <th></th>\n",
       "      <th></th>\n",
       "      <th></th>\n",
       "    </tr>\n",
       "  </thead>\n",
       "  <tbody>\n",
       "    <tr>\n",
       "      <th>Flan</th>\n",
       "      <td>2.0</td>\n",
       "      <td>postre</td>\n",
       "      <td>[huevo, cosas que llevan los flanes]</td>\n",
       "      <td>[]</td>\n",
       "    </tr>\n",
       "  </tbody>\n",
       "</table>\n",
       "</div>"
      ],
      "text/plain": [
       "        precio categorias                          ingredientes alergenos\n",
       "nombre                                                                   \n",
       "Flan       2.0     postre  [huevo, cosas que llevan los flanes]        []"
      ]
     },
     "execution_count": 14,
     "metadata": {},
     "output_type": "execute_result"
    }
   ],
   "source": [
    "carta.loc[carta['categorias'] == 'postre',:]"
   ]
  },
  {
   "cell_type": "markdown",
   "metadata": {},
   "source": [
    "Definimos la función que imprime los elementos de un df según el formato de la carta:"
   ]
  },
  {
   "cell_type": "code",
   "execution_count": 15,
   "metadata": {
    "collapsed": true
   },
   "outputs": [],
   "source": [
    "def MostrarCarta(bot=mi_bot, update=mi_bot_updater):\n",
    "    respuesta = ''\n",
    "    for categoria in ['tapa','entrante', 'primero', 'segundo', 'postre', 'bebida']:\n",
    "        # Definimos el mensaje de la carta\n",
    "        mensaje = update.message.text\n",
    "        mensaje = mensaje.lower() #Ponemos todo en minúsculas\n",
    "        if 'carta' in mensaje or categoria in mensaje: #Apaño para que salga todo cuando se encuentren la palabra 'carta' \n",
    "                                                       #y la categoría en el mismo mensage\n",
    "            respuesta += categoria.capitalize()+':\\n'\n",
    "            df_aux = carta.loc[carta['categorias'] == categoria,:]\n",
    "            \n",
    "            if df_aux.shape[0] > 0:\n",
    "                for fila_i in range(df_aux.shape[0]):\n",
    "                    respuesta += ' +'+df_aux.index[fila_i].capitalize()+': '+ str(df_aux.iloc[fila_i]['precio'])+' €.\\n'\n",
    "                    \n",
    "                    if Clientes[update.message.chat_id].ver_ingredientes:\n",
    "                        ingredientes = df_aux.iloc[fila_i]['ingredientes']\n",
    "                        if len(ingredientes) > 0:\n",
    "                            respuesta += 'Ingredientes: '\n",
    "                            for ing in ingredientes:\n",
    "                                respuesta += ing.capitalize()+'. '\n",
    "                            respuesta += '\\n' \n",
    "                    if Clientes[update.message.chat_id].ver_alergenos:\n",
    "                        alergenos = df_aux.iloc[fila_i]['alergenos']\n",
    "                        if len(alergenos) > 0:\n",
    "                            respuesta += 'Alergenos: '\n",
    "                            for al in alergenos:\n",
    "                                respuesta += al.capitalize()+'. '\n",
    "                            respuesta += '\\n'   \n",
    "                    \n",
    "            respuesta += '-'*15+'\\n'\n",
    "        \n",
    "    bot.sendMessage(chat_id=update.message.chat_id, text=respuesta)"
   ]
  },
  {
   "cell_type": "code",
   "execution_count": 16,
   "metadata": {
    "collapsed": true
   },
   "outputs": [
    {
     "name": "stdout",
     "output_type": "stream",
     "text": [
      "Object `MessageHandler` not found.\n"
     ]
    }
   ],
   "source": [
    "?MessageHandler"
   ]
  },
  {
   "cell_type": "code",
   "execution_count": 18,
   "metadata": {
    "collapsed": true
   },
   "outputs": [
    {
     "data": {
      "text/plain": [
       "\u001b[1;31mInit signature:\u001b[0m\n",
       "\u001b[0mtelegram\u001b[0m\u001b[1;33m.\u001b[0m\u001b[0mext\u001b[0m\u001b[1;33m.\u001b[0m\u001b[0mRegexHandler\u001b[0m\u001b[1;33m(\u001b[0m\u001b[1;33m\n",
       "\u001b[0m    \u001b[0mpattern\u001b[0m\u001b[1;33m,\u001b[0m\u001b[1;33m\n",
       "\u001b[0m    \u001b[0mcallback\u001b[0m\u001b[1;33m,\u001b[0m\u001b[1;33m\n",
       "\u001b[0m    \u001b[0mpass_groups\u001b[0m\u001b[1;33m=\u001b[0m\u001b[1;32mFalse\u001b[0m\u001b[1;33m,\u001b[0m\u001b[1;33m\n",
       "\u001b[0m    \u001b[0mpass_groupdict\u001b[0m\u001b[1;33m=\u001b[0m\u001b[1;32mFalse\u001b[0m\u001b[1;33m,\u001b[0m\u001b[1;33m\n",
       "\u001b[0m    \u001b[0mpass_update_queue\u001b[0m\u001b[1;33m=\u001b[0m\u001b[1;32mFalse\u001b[0m\u001b[1;33m,\u001b[0m\u001b[1;33m\n",
       "\u001b[0m    \u001b[0mpass_job_queue\u001b[0m\u001b[1;33m=\u001b[0m\u001b[1;32mFalse\u001b[0m\u001b[1;33m,\u001b[0m\u001b[1;33m\n",
       "\u001b[0m    \u001b[0mpass_user_data\u001b[0m\u001b[1;33m=\u001b[0m\u001b[1;32mFalse\u001b[0m\u001b[1;33m,\u001b[0m\u001b[1;33m\n",
       "\u001b[0m    \u001b[0mpass_chat_data\u001b[0m\u001b[1;33m=\u001b[0m\u001b[1;32mFalse\u001b[0m\u001b[1;33m,\u001b[0m\u001b[1;33m\n",
       "\u001b[0m    \u001b[0mallow_edited\u001b[0m\u001b[1;33m=\u001b[0m\u001b[1;32mFalse\u001b[0m\u001b[1;33m,\u001b[0m\u001b[1;33m\n",
       "\u001b[0m    \u001b[0mmessage_updates\u001b[0m\u001b[1;33m=\u001b[0m\u001b[1;32mTrue\u001b[0m\u001b[1;33m,\u001b[0m\u001b[1;33m\n",
       "\u001b[0m    \u001b[0mchannel_post_updates\u001b[0m\u001b[1;33m=\u001b[0m\u001b[1;32mFalse\u001b[0m\u001b[1;33m,\u001b[0m\u001b[1;33m\n",
       "\u001b[0m    \u001b[0medited_updates\u001b[0m\u001b[1;33m=\u001b[0m\u001b[1;32mFalse\u001b[0m\u001b[1;33m,\u001b[0m\u001b[1;33m\n",
       "\u001b[0m\u001b[1;33m)\u001b[0m\u001b[1;33m\u001b[0m\u001b[1;33m\u001b[0m\u001b[0m\n",
       "\u001b[1;31mDocstring:\u001b[0m     \n",
       "Handler class to handle Telegram updates based on a regex.\n",
       "\n",
       "It uses a regular expression to check text messages. Read the documentation of the ``re``\n",
       "module for more information. The ``re.match`` function is used to determine if an update should\n",
       "be handled by this handler.\n",
       "\n",
       "Attributes:\n",
       "    pattern (:obj:`str` | :obj:`Pattern`): The regex pattern.\n",
       "    callback (:obj:`callable`): The callback function for this handler.\n",
       "    pass_groups (:obj:`bool`): Optional. Determines whether ``groups`` will be passed to the\n",
       "        callback function.\n",
       "    pass_groupdict (:obj:`bool`): Optional. Determines whether ``groupdict``. will be passed to\n",
       "        the callback function.\n",
       "    pass_update_queue (:obj:`bool`): Optional. Determines whether ``update_queue`` will be\n",
       "        passed to the callback function.\n",
       "    pass_job_queue (:obj:`bool`): Optional. Determines whether ``job_queue`` will be passed to\n",
       "        the callback function.\n",
       "    pass_user_data (:obj:`bool`): Optional. Determines whether ``user_data`` will be passed to\n",
       "        the callback function.\n",
       "    pass_chat_data (:obj:`bool`): Optional. Determines whether ``chat_data`` will be passed to\n",
       "        the callback function.\n",
       "\n",
       "Note:\n",
       "    :attr:`pass_user_data` and :attr:`pass_chat_data` determine whether a ``dict`` you\n",
       "    can use to keep any data in will be sent to the :attr:`callback` function. Related to\n",
       "    either the user or the chat that the update was sent in. For each update from the same user\n",
       "    or in the same chat, it will be the same ``dict``.\n",
       "\n",
       "Args:\n",
       "    pattern (:obj:`str` | :obj:`Pattern`): The regex pattern.\n",
       "    callback (:obj:`callable`): A function that takes ``bot, update`` as positional arguments.\n",
       "        It will be called when the :attr:`check_update` has determined that an update should be\n",
       "        processed by this handler.\n",
       "    pass_groups (:obj:`bool`, optional): If the callback should be passed the result of\n",
       "        ``re.match(pattern, data).groups()`` as a keyword argument called ``groups``.\n",
       "        Default is ``False``\n",
       "    pass_groupdict (:obj:`bool`, optional): If the callback should be passed the result of\n",
       "        ``re.match(pattern, data).groupdict()`` as a keyword argument called ``groupdict``.\n",
       "        Default is ``False``\n",
       "    pass_update_queue (:obj:`bool`, optional): If set to ``True``, a keyword argument called\n",
       "        ``update_queue`` will be passed to the callback function. It will be the ``Queue``\n",
       "        instance used by the :class:`telegram.ext.Updater` and :class:`telegram.ext.Dispatcher`\n",
       "        that contains new updates which can be used to insert updates. Default is ``False``.\n",
       "    pass_job_queue (:obj:`bool`, optional): If set to ``True``, a keyword argument called\n",
       "        ``job_queue`` will be passed to the callback function. It will be a\n",
       "        :class:`telegram.ext.JobQueue` instance created by the :class:`telegram.ext.Updater`\n",
       "        which can be used to schedule new jobs. Default is ``False``.\n",
       "    pass_user_data (:obj:`bool`, optional): If set to ``True``, a keyword argument called\n",
       "        ``user_data`` will be passed to the callback function. Default is ``False``.\n",
       "    pass_chat_data (:obj:`bool`, optional): If set to ``True``, a keyword argument called\n",
       "        ``chat_data`` will be passed to the callback function. Default is ``False``.\n",
       "    message_updates (:obj:`bool`, optional): Should \"normal\" message updates be handled?\n",
       "        Default is ``True``.\n",
       "    channel_post_updates (:obj:`bool`, optional): Should channel posts updates be handled?\n",
       "        Default is ``True``.\n",
       "    edited_updates (:obj:`bool`, optional): Should \"edited\" message updates be handled? Default\n",
       "        is ``False``.\n",
       "    allow_edited (:obj:`bool`, optional): If the handler should also accept edited messages.\n",
       "        Default is ``False`` - Deprecated. use edited_updates instead.\n",
       "\n",
       "Raises:\n",
       "    ValueError\n",
       "\u001b[1;31mFile:\u001b[0m           c:\\users\\jdela\\anaconda3\\lib\\site-packages\\telegram\\ext\\regexhandler.py\n",
       "\u001b[1;31mType:\u001b[0m           type\n",
       "\u001b[1;31mSubclasses:\u001b[0m     \n"
      ]
     },
     "metadata": {},
     "output_type": "display_data"
    }
   ],
   "source": [
    "telegram.ext.RegexHandler?"
   ]
  },
  {
   "cell_type": "markdown",
   "metadata": {},
   "source": [
    "Como añadir platos a la carta:"
   ]
  },
  {
   "cell_type": "code",
   "execution_count": null,
   "metadata": {
    "collapsed": true
   },
   "outputs": [],
   "source": [
    "carta.loc['Plato random',:] = [['cacahuetes'],'tapa',['cacahuetes'],1]"
   ]
  },
  {
   "cell_type": "code",
   "execution_count": null,
   "metadata": {
    "collapsed": true
   },
   "outputs": [],
   "source": [
    "carta"
   ]
  },
  {
   "cell_type": "code",
   "execution_count": null,
   "metadata": {
    "collapsed": true
   },
   "outputs": [],
   "source": [
    "def ver_alergenos(bot=mi_bot, update=mi_bot_updater):\n",
    "    v = Clientes[update.message.chat_id].ver_alergenos\n",
    "    Clientes[update.message.chat_id].ver_alergenos = not v\n",
    "    bot.send_message(chat_id=update.message.chat_id, text='A partir de ahora'+' no'*v +\\\n",
    "                     ' se mostraran todos los alergenos de los platos.\\n Puede revertir esta opción introduciendo nuevamente el comando /Alergenos')\n",
    "    \n",
    "def ver_ingredientes(bot=mi_bot, update=mi_bot_updater):\n",
    "    v = Clientes[update.message.chat_id].ver_ingredientes\n",
    "    Clientes[update.message.chat_id].ver_ingredientes = not v\n",
    "    bot.send_message(chat_id=update.message.chat_id, text='A partir de ahora'+' no'*v +\\\n",
    "                     ' se mostraran todos los ingredientes de los platos.\\n Puede revertir esta opción introduciendo nuevamente el comando /Ingredientes')"
   ]
  },
  {
   "cell_type": "code",
   "execution_count": null,
   "metadata": {
    "collapsed": true
   },
   "outputs": [],
   "source": [
    "def Añadir(bot=mi_bot, update=mi_bot_updater):\n",
    "    Entendido = False #Por si nos dicen algo que no está en la lista\n",
    "    \n",
    "    mensaje = update.message.text\n",
    "    mensaje = mensaje.lower() #Ponemos todo en minúsculas\n",
    "#     print(update.message.date)\n",
    "    print(update.message.from_user.full_name)\n",
    "    for plato in carta.index:\n",
    "        # Cantidad de veces que aparece el plato en el mensaje:\n",
    "        c = len(re.findall(plato.lower(), mensaje))\n",
    "        if c>0:\n",
    "            Clientes[update.message.chat_id].AñadirPlato(plato, cantidad = c)\n",
    "            Entendido = True\n",
    "    \n",
    "    if Entendido:\n",
    "        bot.send_message(chat_id=update.message.chat_id, text='¿Desea añadir algo más?')\n",
    "    else:\n",
    "        bot.send_message(chat_id=update.message.chat_id, text='Lo sentimos, el plato seleccionado no está disponible en nuestro restaurante.')"
   ]
  },
  {
   "cell_type": "code",
   "execution_count": null,
   "metadata": {
    "collapsed": true
   },
   "outputs": [],
   "source": [
    "def Cesta(bot=mi_bot, update=mi_bot_updater):\n",
    "    Clientes[update.message.chat_id].PrintSeleccion()"
   ]
  },
  {
   "cell_type": "code",
   "execution_count": null,
   "metadata": {
    "collapsed": true
   },
   "outputs": [],
   "source": [
    "mi_bot_updater.stop()\n",
    "dispatcher.handlers = {0: []}\n",
    "Clientes = {}"
   ]
  },
  {
   "cell_type": "code",
   "execution_count": null,
   "metadata": {
    "collapsed": true
   },
   "outputs": [],
   "source": [
    "#Definimos para cada comando la función que atenderá la peticion\n",
    "#start_handler = CommandHandler('start', start)\n",
    "ayuda_handler = CommandHandler('?', ayuda)\n",
    "ayuda_handler = CommandHandler('Ayuda', ayuda)\n",
    "#Salir_handler = CommandHandler('Salir', Salir)\n",
    "RegistrarCliente_handler = CommandHandler('Registrar', RegistrarCliente)\n",
    "#MostrarCarta_handler = CommandHandler('Carta', MostrarCarta)\n",
    "MostrarCarta_handler = telegram.ext.RegexHandler('([C|c]arta)|([T|t]apa)|([E|e]ntrante)|([P|p]rimero)|([S|s]egundo)|([P|p]ostre)|([B|b]ebida)',MostrarCarta)\n",
    "\n",
    "Ingredientes_handler = CommandHandler('Ingredientes', ver_ingredientes)\n",
    "Alergenos_handler = CommandHandler('Alergenos', ver_alergenos)\n",
    "\n",
    "#Añadir_handler = telegram.ext.RegexHandler('.*[A|a]ñadir',Añadir)\n",
    "Añadir_handler = telegram.ext.RegexHandler('(.*[A|a](ñad))|(.*(?<![N|n]o\\s)[Q|q]uiero)',Añadir)\n",
    "#Quitar_handler = telegram.ext.RegexHandler('(.*[Q|q](uit))|(.*(?<=[N|n]o\\s)[Q|q]uiero)',Quitar)\n",
    "\n",
    "Cesta_handler = CommandHandler('Cesta', Cesta)\n",
    "Yo_handler = CommandHandler('Yo', yo)\n",
    "Eliminar_handler = CommandHandler('Eliminarme', DarDeBaja)"
   ]
  },
  {
   "cell_type": "code",
   "execution_count": null,
   "metadata": {
    "collapsed": true
   },
   "outputs": [],
   "source": [
    "dispatcher = mi_bot_updater.dispatcher\n",
    "\n",
    "#dispatcher.add_handler(NuevoCliente_handler)\n",
    "#dispatcher.add_handler(start_handler)\n",
    "#dispatcher.add_handler(Salir_handler)\n",
    "dispatcher.add_handler(ayuda_handler)\n",
    "dispatcher.add_handler(RegistrarCliente_handler)\n",
    "dispatcher.add_handler(MostrarCarta_handler)\n",
    "\n",
    "dispatcher.add_handler(Ingredientes_handler)\n",
    "dispatcher.add_handler(Alergenos_handler)\n",
    "dispatcher.add_handler(Añadir_handler)\n",
    "#dispatcher.add_handler(Quitar_handler)\n",
    "\n",
    "dispatcher.add_handler(Cesta_handler)\n",
    "dispatcher.add_handler(Yo_handler)\n",
    "dispatcher.add_handler(Eliminar_handler)"
   ]
  },
  {
   "cell_type": "code",
   "execution_count": null,
   "metadata": {
    "collapsed": true,
    "scrolled": true
   },
   "outputs": [],
   "source": [
    "mi_bot_updater.start_polling()"
   ]
  },
  {
   "cell_type": "markdown",
   "metadata": {},
   "source": [
    "Todo lo que se le puede aplicar a un update.message\n",
    "\n",
    "['ATTACHMENT_TYPES', 'MESSAGE_TYPES', '__class__', '__delattr__', '__dict__', '__dir__', '__doc__', '__eq__', '__format__', '__ge__', '__getattribute__', '__getitem__', '__gt__', '__hash__', '__init__', '__init_subclass__', '__le__', '__lt__', '__metaclass__', '__module__', '__ne__', '__new__', '__reduce__', '__reduce_ex__', '__repr__', '__setattr__', '__sizeof__', '__str__', '__subclasshook__', '__weakref__', '_effective_attachment', '_id_attrs', '_parse_html', '_parse_markdown', '_quote', 'audio', 'author_signature', 'bot', 'caption', 'caption_entities', 'caption_html', 'caption_html_urled', 'caption_markdown', 'caption_markdown_urled', 'channel_chat_created', 'chat', 'chat_id', 'connected_website', 'contact', 'date', 'de_json', 'delete', 'delete_chat_photo', 'document', 'edit_caption', 'edit_date', 'edit_reply_markup', 'edit_text', 'effective_attachment', 'entities', 'forward', 'forward_date', 'forward_from', 'forward_from_chat', 'forward_from_message_id', 'forward_signature', 'from_user', 'game', 'group_chat_created', 'invoice', 'left_chat_member', 'location', 'media_group_id', 'message_id', 'migrate_from_chat_id', 'migrate_to_chat_id', 'new_chat_members', 'new_chat_photo', 'new_chat_title', 'parse_caption_entities', 'parse_caption_entity', 'parse_entities', 'parse_entity', 'photo', 'pinned_message', 'reply_audio', 'reply_contact', 'reply_document', 'reply_html', 'reply_location', 'reply_markdown', 'reply_media_group', 'reply_photo', 'reply_sticker', 'reply_text', 'reply_to_message', 'reply_venue', 'reply_video', 'reply_video_note', 'reply_voice', 'sticker', 'successful_payment', 'supergroup_chat_created', 'text', 'text_html', 'text_html_urled', 'text_markdown', 'text_markdown_urled', 'to_dict', 'to_json', 'venue', 'video', 'video_note', 'voice']"
   ]
  },
  {
   "cell_type": "markdown",
   "metadata": {},
   "source": [
    "Todo lo que se le puede aplicar a update.message.from_user\n",
    "\n",
    "['__class__', '__delattr__', '__dict__', '__dir__', '__doc__', '__eq__', '__format__', '__ge__', '__getattribute__', '__getitem__', '__gt__', '__hash__', '__init__', '__init_subclass__', '__le__', '__lt__', '__metaclass__', '__module__', '__ne__', '__new__', '__reduce__', '__reduce_ex__', '__repr__', '__setattr__', '__sizeof__', '__str__', '__subclasshook__', '__weakref__', '_id_attrs', 'bot', 'de_json', 'de_list', 'first_name', 'full_name', 'get_profile_photos', 'id', 'is_bot', 'language_code', 'last_name', 'mention_html', 'mention_markdown', 'name', 'send_audio', 'send_document', 'send_message', 'send_photo', 'send_sticker', 'send_video', 'send_video_note', 'send_voice', 'to_dict', 'to_json', 'username']"
   ]
  },
  {
   "cell_type": "markdown",
   "metadata": {},
   "source": [
    "Proximos objetivos:\n",
    "- **/yo: Muestra los datos del cliente**  \n",
    "- **La función de pedir tiene que responter a: Añadir/Añade/Quiero(Quiero solo al principio)**  \n",
    "- **Una función de quitar cosas de la cesta que responda a 'No quiero'/Quita/Quitar/Quitame**  \n",
    "- **Una función que responda a mensajes: muestrame la carta, muestrame los primeros,.... regex -->[carta|tapas|primeros]... ---> if carta in mensaje muestra la carta, else ---> for cosa in [tapa,postre,....]: if cosa in mensaje....** \n",
    "\n",
    "- Poner una función que tramite el pedido en la que se muestre la cesta y un par de botones de confirmación\n",
    "- Poner un TUTORIAL!!! --> al final de todas las funciones poner un if cliente.tutorial: aser cosas nasis\n",
    "- **Poner una ayuda como dios manda.**  \n",
    "- **/Comandos: Lista con todos los comandos**"
   ]
  },
  {
   "cell_type": "code",
   "execution_count": null,
   "metadata": {
    "collapsed": true
   },
   "outputs": [],
   "source": [
    "def yo(bot=mi_bot, update=mi_bot_updater):\n",
    "    if update.message.chat_id in Clientes.keys():\n",
    "        # Tomamos el cliente\n",
    "        cliente = Clientes[update.message.chat_id]\n",
    "        platos = ''\n",
    "        if len(cliente.platos_elegidos)>0:\n",
    "            for i in platos_elegidos:\n",
    "                platos += i+'. '\n",
    "        respuesta = 'Los siguientes datos son los datos almacenados en nuestro registro:'+'\\n'+\\\n",
    "        '-Id de la conversación:'+str(update.message.chat_id)+'. Para poder contestar a las peticiones.'+'\\n'+\\\n",
    "        '-Listado de platos escogidos:'+platos+'\\n'+\\\n",
    "        '-El valor actual del pedido: '+str(cliente.precio)+'€\\n'+\\\n",
    "        '-Si desea ver o no los ingredientes y los alergenos de los platos.'+'\\n'+\\\n",
    "        '-Su nombre para tener un responsable del encargo: '+cliente.nombre\n",
    "        \n",
    "        bot.send_message(chat_id=update.message.chat_id, text=respuesta)\n",
    "    else:\n",
    "        bot.send_message(chat_id=update.message.chat_id, text='No se encuentra registrado en este servicio.')"
   ]
  },
  {
   "cell_type": "code",
   "execution_count": null,
   "metadata": {
    "collapsed": true
   },
   "outputs": [],
   "source": [
    "def DarDeBaja(bot=mi_bot, update=mi_bot_updater):\n",
    "    IdCliente = update.message.chat_id\n",
    "    if IdCliente in Clientes.keys():\n",
    "        del Clientes[IdCliente]\n",
    "        bot.send_message(chat_id=update.message.chat_id, text='Se le ha eliminado de nuestra base de datos.')\n",
    "    else:\n",
    "        bot.send_message(chat_id=update.message.chat_id, text='No se encuentra registrado en nuestra base de datos.')"
   ]
  },
  {
   "cell_type": "code",
   "execution_count": null,
   "metadata": {
    "collapsed": true
   },
   "outputs": [],
   "source": [
    "re.findall('(?<!No\\s)quiero', 'quiero cocacola flan jam laad')"
   ]
  },
  {
   "cell_type": "markdown",
   "metadata": {},
   "source": [
    "Bienvenido a la pagina de peticiones del restaurante Tan Rou Vao:  \n",
    "\n",
    "Si en algún momento no respodemos a sus mensajes es porque el restaurante se encuentra cerrado.\n",
    "\n",
    "Si es la primera vez que utiliza esta aplicación puede ver el listado de comandos mediante /Ayuda ó /?.\n",
    "    \n",
    "*Nota*: Esta aplicación no está binculada a ningún restaurante, solo es una tarea evaluable para una asignatura."
   ]
  },
  {
   "cell_type": "markdown",
   "metadata": {},
   "source": [
    "Bienvenido a la pagina de peticiones del restaurante Tan Rou Vao: Simplemente con un par de clicks y unos cuantos mensajes será capaz de encargar su pedido de manera facil y sencilla. \n",
    "\n",
    "Si en algún momento no recibe respuesta a sus mensajes, puede ser debido a que no se encuentra registrado en nuestra base de datos ó el restaurante se encuentra cerrado.\n",
    "\n",
    "Si es la primera vez que utiliza esta aplicación puede ver el listado de comandos mediante /Ayuda ó /?.\n",
    "\n",
    "*Nota*: Esta aplicación no está binculada a ningún restaurante, solo es una tarea evaluable para una asignatura."
   ]
  },
  {
   "cell_type": "code",
   "execution_count": null,
   "metadata": {
    "collapsed": true
   },
   "outputs": [],
   "source": [
    "len('Bienvenido a la pagina de peticiones del restaurante Tan Rou Vao: Simplemente con unos cuantos mensajes será capaz de encargar su pedido de manera facil y sencilla.Si en algún momento no recibe respuesta a sus mensajes, puede ser debido a que no se encuentra registrado en nuestra base de datos ó el restaurante se encuentra cerrado.Si es la primera vez que utiliza esta aplicación puede ver el listado de comandos mediante /Ayuda ó /?.Nota: Esta aplicación no está binculada a ningún restaurante, solo es una tarea evaluable para una asignatura.')"
   ]
  },
  {
   "cell_type": "markdown",
   "metadata": {},
   "source": [
    "Navegue por nuestra carta y realice los pedidos sin necesidad de venir al restaurante. Simplemente con un par de clicks y unos cuantos mensajes será capaz de encargar su pedido de manera facil y sencilla."
   ]
  },
  {
   "cell_type": "markdown",
   "metadata": {},
   "source": [
    "Realice pedidos sin necesidad de venir a nuestro restaurante. Simplemente con unos pocos mensajes hará su encargo."
   ]
  },
  {
   "cell_type": "markdown",
   "metadata": {},
   "source": [
    "- Introducción: \n",
    "    Bienvenido a la pagina de peticiones del restaurante Tan Rou Vao. Si en algún momento no respodemos a sus mensajes es porque el restaurante se encuentra cerrado.\n",
    "    Dentro de esta aplicación podrá explorar y descubrir nuestra gran variedad de platos. Dando la posibilidad de detallar en todo momento los ingredientes y\\o alergenos que contiene cada plato si el cliente lo desea.  \n",
    "    Para poder disfrutar por completo de nuestra aplicación nuestros clientes se tienen que /Registrar. \n",
    "    Si es la primera vez que utiliza esta aplicación puede ver el listado de comandos mediante /Ayuda ó /?.\n",
    "    \n",
    "    *Nota*: Esta aplicación no está vinculada a ningún restaurante, solo es una tarea evaluable para una asignatura.\n",
    "    \n",
    "    \n",
    "- Ayuda:\n",
    "    /Ayuda ó /?: Muestran la ayuda de la aplicacción.  \n",
    "    /Comandos: Muestra el listado de comandos.\n",
    "    /Alergenos e /Ingredientes: Opción que regula si se quieren ver los Alergenos y/o Ingredientes de los platos.  \n",
    "    /Registrar: Lleva a cabo el proceso de registro. Para este proceso solo registramos el Identificador del chat y le asociamos su nombre. Esto es para poder tramitar los pedidos y tener un usuario al que asignar el pedido.\n",
    "    /Yo: Muestra los datos que tenemos almacenados sobre usted.\n",
    "    /Eliminarme: Elimina su registro de la base de datos. Tras esta acción se tendría que volver a /Registrar si desea continuar utilizando la aplicación.\n",
    "    \n",
    "    /Carta: Muestra la carta de productos disponibles en nuestro restaurante. También se puede mostrar la carta con instrucciones como: \"Ver la carta\", \"Muestrame la carta\", etc. Y además, si está interesado en un tipo concreto de platos, como por ejemplo, los postres, se puede introducir \"Muestrame los postres\", \"¿Qué postres tienes?\", etc.\n",
    "    \n",
    "    ¿Y como se piden platos?\n",
    "    Esto es muy sencillo, ya que solo hay que pedirlos de la siguiente forma \"Quiero un Flan\", \"Añade un Flan\", \"Creo que quiero tomar un flan\", etc. Si por algún casual, se desearía tomar dos flanes habría que introducir \"Quiero un flan, un flan,....\" ya que el programa solo reconoce los platos de uno en uno.\n",
    "    \n",
    "    ¿Y si pido algo que no quiero?\n",
    "    En este caso, solo habría que escribir \"No quiero\\Quitame Nombre del plato a quitar\", y al igual que en el caso de añadir platos también hay que introducirlos de uno en uno.\n",
    "    \n",
    "    /Cesta: Muestra la selección de platos que el cliente desea comprar.\n",
    "    /Cuenta: Confirma que quiere encargar todos los platos incluidos en la /Cesta y tramita el pedido.\n",
    "    \n",
    "    /Tutorial: Si se encuentra registrado(/Registrar) puede iniciar el tutorial que le guiará en un ejemplo sencillo del uso de la aplicación."
   ]
  },
  {
   "cell_type": "markdown",
   "metadata": {},
   "source": [
    "# Versión 2"
   ]
  },
  {
   "cell_type": "code",
   "execution_count": null,
   "metadata": {
    "collapsed": true
   },
   "outputs": [],
   "source": [
    "import telebot\n",
    "import time # Librería para hacer que el programa que controla el bot no se acabe.\n",
    "import telegram\n",
    "from telegram.ext import Updater\n",
    "from telegram.ext import CommandHandler\n",
    "import re\n",
    "import numpy as np\n",
    "TOKEN = '465196210:AAEd0NUrSnMD4ugh23SpQupeC3sZBXjZECU' # Nuestro token del bot."
   ]
  },
  {
   "cell_type": "code",
   "execution_count": null,
   "metadata": {
    "collapsed": true
   },
   "outputs": [],
   "source": [
    "#Creamos nuestra instancia \"mi_bot\" a partir de ese TOKEN\n",
    "mi_bot = telegram.Bot(token=TOKEN)\n",
    "mi_bot_updater = Updater(mi_bot.token)"
   ]
  },
  {
   "cell_type": "markdown",
   "metadata": {},
   "source": [
    "Y las funciones"
   ]
  },
  {
   "cell_type": "code",
   "execution_count": null,
   "metadata": {
    "collapsed": true
   },
   "outputs": [],
   "source": [
    "Clientes = {}\n",
    "\n",
    "def Start(bot=mi_bot, update=mi_bot_updater):\n",
    "    \n",
    "    ClienteId = update.message.chat_id\n",
    "    if update.message.chat_id not in Clientes.keys():\n",
    "        #Introducimos el nombre\n",
    "        Nuevo_Cliente = Cliente(bot,update,nombre = update.message.from_user.full_name, fecha_ingreso = update.message.date)\n",
    "        Clientes[update.message.chat_id] = Nuevo_Cliente\n",
    "        #bot.sendMessage(chat_id=update.message.chat_id, text=\"Se le ha registrado con exito.\")\n",
    "    \n",
    "    mensaje = 'Bienvenido al chat de encargos para llevar del restaurante Tan Rou Vao.'+'\\n'+\\\n",
    "    '\\n'+\\\n",
    "    'Se ha registrado con éxito en nuestra aplicación. Recuerde que puede visualizar la carta mediante /Carta.'+'\\n'+\\\n",
    "    '\\n'+\\\n",
    "    'Se puede ver el listado de comandos mediante /Ayuda o /?. También hay disponible un pequeño listado de ejemplos accesible mediante /Ejemplos.'+'\\n'+\\\n",
    "    '\\n'+\\\n",
    "    'Disfrute de la aplicación.'\n",
    "    \n",
    "    bot.sendMessage(chat_id=update.message.chat_id, text=mensaje,\n",
    "                     parse_mode=telegram.ParseMode.MARKDOWN)"
   ]
  },
  {
   "cell_type": "code",
   "execution_count": null,
   "metadata": {
    "collapsed": true
   },
   "outputs": [],
   "source": [
    "def ayuda(bot=mi_bot, update=mi_bot_updater):\n",
    "    Ayuda = '    /Ayuda ó /?: Muestran la ayuda de la aplicacción.'+'\\n'+\\\n",
    "    '/Comandos: Muestra un resumen de los comandos.'+'\\n'+\\\n",
    "    '/Alergenos e /Ingredientes: Opción que regula si se quieren ver los Alergenos y/o Ingredientes de los platos.'+'\\n'+\\\n",
    "    '/Registrar: Lleva a cabo el proceso de registro. Para este proceso solo registramos el Identificador del chat y le asociamos su nombre. Esto es para poder tramitar los pedidos y poder tener un usuario al que asignar el pedido.'+'\\n'+\\\n",
    "    '/Yo: Muestra los datos que tenemos almacenados sobre usted.'+'\\n'+\\\n",
    "    '/Eliminarme: Elimina su registro de la base de datos. Tras esta acción se tendría que volver a /Registrar si desea continuar utilizando la aplicación.'+'\\n'+\\\n",
    "    '\\n'+\\\n",
    "    '/Carta: Muestra la carta de productos disponibles en nuestro restaurante.'+'\\n'+\\\n",
    "    '/Tapas,/Bebidas,/Entrantes,/Primeros,/Segundos,/Postres: Muestra los platos incluidos dentro de cada categoría.'+'\\n'+\\\n",
    "    'También se puede mostrar la carta con instrucciones como: \\\"Ver la carta\\\", \\\"Muestrame la carta\\\", etc. Y además, si está interesado en un tipo concreto de platos, como por ejemplo, los postres, se puede introducir \"Muestrame los postres\", \"¿Qué postres tienes?\", etc.'+'\\n'+\\\n",
    "    '\\n'+\\\n",
    "    '¿Y como se piden platos?'+'\\n'+\\\n",
    "    'Esto es muy sencillo, ya que solo hay que pedirlos de la siguiente forma \\\"Quiero un Flan\\\", \\\"Añade un Flan\\\", \\\"Creo que quiero tomar un flan\\\", etc. Si por algún casual, se desearía tomar dos flanes habría que introducir el nombre del producto dos veces(\\\"Quiero un flan, un flan,....\\\") ya que de momento el programa solo reconoce los platos de uno en uno.'+'\\n'+\\\n",
    "    '\\n'+\\\n",
    "    '¿Y si pido algo que no quiero?'+'\\n'+\\\n",
    "    'En este caso, solo habría que escribir \\\"No quiero\\Quitame Nombre del plato a quitar\\\", y al igual que en el caso de añadir platos también hay que introducirlos de uno en uno.'+'\\n'+\\\n",
    "    '\\n'+\\\n",
    "    '/Cesta: Muestra la selección de platos que el cliente desea comprar.'+'\\n'+\\\n",
    "    '/Cuenta: Confirma que quiere encargar todos los platos incluidos en la /Cesta y tramita el pedido.'+'\\n'+\\\n",
    "    '\\n'+\\\n",
    "    '/Tutorial: Si se encuentra registrado(/Registrar) puede iniciar el tutorial que le guiará en un ejemplo sencillo del uso de la aplicación.'\n",
    "    bot.sendMessage(chat_id=update.message.chat_id, text=Ayuda)\n",
    "    \n",
    "def ayuda(bot=mi_bot, update=mi_bot_updater):\n",
    "    ayuda ='-'*30+'\\n'+\\\n",
    "    '*Básicos:*'+'\\n'+\\\n",
    "    '    /?'+'\\n'+\\\n",
    "    '    /Ayuda: Muestra esta lista de comandos.'+'\\n'+\\\n",
    "    '    /Registrar: Se registra en la aplicación y le da acceso a todos los comandos.'+'\\n'+\\\n",
    "    '    /Yo: Muestra la información que tenemos sobre usted.'+'\\n'+\\\n",
    "    '    /Ejemplos: Muestra una pequeña lista de ejemplos.'+'\\n'+\\\n",
    "    '    /Pista: Muestra un ejemplo aleatorio.'+'\\n'+\\\n",
    "    '    /Eliminarme: Elimina su registro a la base de datos.'+'\\n'+\\\n",
    "    '    /start: Inicia el bot y le registra(Si no se encucentra registrado).'+'\\n'+\\\n",
    "    '-'*30+'\\n'+\\\n",
    "    '*Alérgenos e Ingredientes:*'+'\\n'+\\\n",
    "    '    /Alergenos: Ver\\\\No ver los Alérgenos de los platos.'+'\\n'+\\\n",
    "    '    /Ingredientes: Ver\\\\No ver los Ingredientes de los platos.'+'\\n'+\\\n",
    "    '-'*30+'\\n'+\\\n",
    "    '*Relacionados con la carta:*'+'\\n'+\\\n",
    "    '    /Carta: Muestra la carta.'+'\\n'+\\\n",
    "    '    /Tapas: Muestra la sección de Tapas.'+'\\n'+\\\n",
    "    '    /Bebidas: Muestra la sección de Bebidas.'+'\\n'+\\\n",
    "    '    /Entrantes: Muestra la sección de Entrantes.'+'\\n'+\\\n",
    "    '    /Primeros: Muestra la sección de Primeros.'+'\\n'+\\\n",
    "    '    /Segundos: Muestra la sección de Segundos.'+'\\n'+\\\n",
    "    '    /Postres: Muestra la sección de Postres.'+'\\n'+\\\n",
    "    '    *Nota*: Todos estos comandos se pueden introducir en la misma instrucción: Muestrame las bebidas, las tapas y los postres.'+'\\n'+\\\n",
    "    '-'*30+'\\n'+\\\n",
    "    '*Reecomendaciones y fotos:*'+'\\n'+\\\n",
    "    '    /Foto de \"nombre de plato\": Muestra una foto del plato nombrado.'+'\\n'+\\\n",
    "    '    /Recomendar: Muestra un plato aleatorio de la carta.'+'\\n'+\\\n",
    "    '    /Recomendar plato con \"Ingrediente\": Muestra un plato aleatorio de la carta que contenga ese ingrediente.'+'\\n'+\\\n",
    "    '-'*30+'\\n'+\\\n",
    "    '*Relacionados con los pedidos:*'+'\\n'+\\\n",
    "    '    /Cesta: Muestra los platos seleccionados.'+'\\n'+\\\n",
    "    '    /Cuenta: Tramita el pedido y le pasamos la Cuenta.'+'\\n'+\\\n",
    "    '    /Quiero, /Añadir, /Añade \\\"Nombre del plato\\\".'+'\\n'+\\\n",
    "    '    /Quita, No quiero, /Quitame \\\"Nombre del plato\\\".'+'\\n'+\\\n",
    "    '-'*30\n",
    "    \n",
    "    bot.sendMessage(chat_id=update.message.chat_id, text=ayuda,\n",
    "                        parse_mode=telegram.ParseMode.MARKDOWN)"
   ]
  },
  {
   "cell_type": "code",
   "execution_count": null,
   "metadata": {
    "collapsed": true
   },
   "outputs": [],
   "source": [
    "class Cliente:\n",
    "    def __init__(self, bot, update, nombre, fecha_ingreso):\n",
    "        self.platos_elegidos = {}\n",
    "        self.precio = 0\n",
    "        \n",
    "        # Variable que cuenta el número de veces que este\n",
    "        #    cliente ha realizado un encargo y no ha ido a \n",
    "        #    recogerlo.\n",
    "        self.nivel_impagos = 0\n",
    "        self.ver_alergenos = False\n",
    "        self.ver_ingredientes = False\n",
    "        self.nombre = nombre\n",
    "        self.fecha_ingreso = fecha_ingreso\n",
    "        #Guardamos el id del mensaje para luedo asegurarnos de que no ha pedido nada más\n",
    "        self.Id_mensage_compra = None\n",
    "        \n",
    "        self.bot = bot\n",
    "        self.update = update\n",
    "        \n",
    "    def PrintSeleccion(self):\n",
    "        if len(self.platos_elegidos)==0:\n",
    "            mensaje = 'No ha elegido platos. \\n'\n",
    "        else:\n",
    "            mensaje = '*Platos elegidos:*\\n'\n",
    "            for plato in self.platos_elegidos.keys():\n",
    "                mensaje += ' -'+plato.capitalize()+' x'+str(self.platos_elegidos[plato])+': '+\\\n",
    "                str(self.platos_elegidos[plato]*carta.loc[plato,'precio'])+'€\\n'\n",
    "                \n",
    "                if self.ver_ingredientes:\n",
    "                    Ingredientes = carta.loc[plato,'ingredientes']\n",
    "                    if len(Ingredientes)> 0:\n",
    "                        mensaje += '    -*Ingredientes:* '\n",
    "                        for ing in Ingredientes:\n",
    "                            mensaje += ing.capitalize() +'. '\n",
    "                        mensaje += '\\n'\n",
    "                    \n",
    "                if self.ver_alergenos:\n",
    "                    Alergenos = carta.loc[plato,'alergenos']\n",
    "                    if len(Alergenos) > 0:\n",
    "                        mensaje += '    -*Alérgenos:* '\n",
    "                        for al in Alergenos:\n",
    "                            mensaje += al.capitalize() +'. '\n",
    "                        mensaje += '\\n'\n",
    "                    \n",
    "                \n",
    "                    \n",
    "            mensaje += '-'*20+'\\n'\n",
    "            mensaje += '*Total:* '+str(self.precio)+' €'\n",
    "        # Enviamos la respuesta\n",
    "        self.bot.sendMessage(chat_id=self.update.message.chat_id, text=mensaje,\n",
    "                        parse_mode=telegram.ParseMode.MARKDOWN)\n",
    "        \n",
    "    def AñadirPlato(self,plato,cantidad):\n",
    "        # plato --> Plato elegido\n",
    "        # cantidad --> Veces que se ha pedido\n",
    "        if plato in self.platos_elegidos.keys():\n",
    "            self.platos_elegidos[plato] += cantidad\n",
    "        else:\n",
    "            self.platos_elegidos[plato] = cantidad #Solo lo ha pedido una vez\n",
    "        #Actualizamos el precio del pedido\n",
    "        self.precio += cantidad*carta.loc[plato,'precio']\n",
    "        \n",
    "        if cantidad ==1:\n",
    "            self.bot.sendMessage(chat_id=self.update.message.chat_id, \n",
    "                                 text='Se ha añadido a la cesta una unidad de '+plato.capitalize()+'.')\n",
    "        else:\n",
    "            self.bot.sendMessage(chat_id=self.update.message.chat_id, \n",
    "                                 text='Se han añadido a la cesta '+str(cantidad)+' unidades de '+plato.capitalize()+'.')\n",
    "    \n",
    "    def QuitarPlato(self,plato,cantidad):\n",
    "        # plato --> Plato a quitar\n",
    "        # cantidad --> Veces que se quiere quitar\n",
    "        self.platos_elegidos[plato] -= cantidad\n",
    "        # Si se quiere quitar más veces de las que aparece:\n",
    "        if self.platos_elegidos[plato] <= 0:\n",
    "            # Si es negativo nos quedamos con el número de platos que tenía seleccionados\n",
    "            num_platos = cantidad+self.platos_elegidos[plato]\n",
    "            self.precio -= num_platos*carta.loc[plato,'precio']\n",
    "            del self.platos_elegidos[plato]\n",
    "        else:\n",
    "            num_platos = cantidad\n",
    "            #Actualizamos el precio del pedido asegurandonos de que no le salga rentable poner y quitar platos\n",
    "            self.precio -= cantidad*carta.loc[plato,'precio']\n",
    "        \n",
    "        if num_platos ==1:\n",
    "            self.bot.sendMessage(chat_id=self.update.message.chat_id, \n",
    "                                 text='Se ha quitado de la cesta una unidad de '+plato.capitalize()+'.')\n",
    "        else:\n",
    "            self.bot.sendMessage(chat_id=self.update.message.chat_id, \n",
    "                                 text='Se han eliminado '+str(num_platos)+' unidades de '+plato.capitalize()+' de su cesta.')\n",
    "    \n",
    "    def Comprar(self,fecha):\n",
    "        print('*'*50)\n",
    "        if self.nivel_impagos == 1:\n",
    "            print('¡¡¡¡Peligro!!!! Este cliente ha realizado',self.nivel_impagos,'pedido que nunca ha recogido')\n",
    "        elif self.nivel_impagos > 1:\n",
    "            print('¡¡¡¡Peligro!!!! Este cliente ha realizado',self.nivel_impagos,'pedidos que nunca ha recogido')\n",
    "            \n",
    "        print('Demandante del pedido:'+self.nombre)\n",
    "        print('Importe total del pedido: '+str(self.precio)+' €')\n",
    "        print('-'*25)\n",
    "        print('Contenido del pedido:')\n",
    "        for plato in self.platos_elegidos.keys():\n",
    "            print(' -'+plato.capitalize()+' x'+str(self.platos_elegidos[plato])+': '+str(self.platos_elegidos[plato]*carta.loc[plato,'precio'])+'€')       \n",
    "        # Este trozo de código es para notificar al propietario/recepcionista del restaurante la información del pedido:\n",
    "        print('Fecha en la que se solicitó el pedido:'+str(fecha))\n",
    "        print('*'*50)"
   ]
  },
  {
   "cell_type": "code",
   "execution_count": null,
   "metadata": {
    "collapsed": true
   },
   "outputs": [],
   "source": [
    "Clientes = {}\n",
    "def RegistrarCliente(bot=mi_bot, update=mi_bot_updater):\n",
    "    ClienteId = update.message.chat_id\n",
    "    if update.message.chat_id in Clientes.keys():\n",
    "        bot.sendMessage(chat_id=update.message.chat_id, text=\"Ya se encuentra registrado. Recuerde que puede visualizar nuestra carta mediante /Carta.\")\n",
    "    else:\n",
    "        #Introducimos el nombre\n",
    "        Nuevo_Cliente = Cliente(bot,update,nombre = update.message.from_user.full_name, fecha_ingreso = update.message.date)\n",
    "        Clientes[update.message.chat_id] = Nuevo_Cliente\n",
    "        bot.sendMessage(chat_id=update.message.chat_id, text=\"Se le ha registrado con exito. Recuerde que puede visualizar nuestra carta mediante /Carta.\")"
   ]
  },
  {
   "cell_type": "markdown",
   "metadata": {},
   "source": [
    "Definimos la carta:\n",
    "+ **nombre:** Columna del nombre del plato.  \n",
    "+ **precio:** Columna del precio del plato.  \n",
    "+ **categorias:** Columna de las categorías del plato: primero, segundo, postre,....  \n",
    "+ **ingredientes:** Columna con los ingredientes que lleva el plato.  \n",
    "+ **alergenos:** Alergenos que lleva el plato.  \n",
    "+ **url:** url donde se encuentra la imagen del plato."
   ]
  },
  {
   "cell_type": "code",
   "execution_count": null,
   "metadata": {
    "scrolled": true
   },
   "outputs": [],
   "source": [
    "import pandas as pd\n",
    "\n",
    "carta = pd.DataFrame({'nombre' : ['Chuletas con patatas','queso frito','Paella Valenciana','Flan','Cocacola'],\n",
    "                     'precio' : [13,4,5,2,1.2],\n",
    "                     'categorias' : ['segundo','entrante','primero','postre','bebida'],\n",
    "                     'ingredientes' : [['Chuletas','patatas'],\n",
    "                                       ['Queso'],\n",
    "                                       ['Arroz','verduras variadas','carne de pollo'],\n",
    "                                       ['huevo','leche'],\n",
    "                                       []],\n",
    "                     'alergenos' : [[],\n",
    "                                    ['lactosa'],\n",
    "                                    ['gluten'],\n",
    "                                    ['huevos','lactosa'],\n",
    "                                    []],\n",
    "                     'url' : ['https://www.rebanando.com/media/457516447hd-jpg_crop.jpeg/rh/chuletas-de-cerdo-al-horno.jpg',\n",
    "                              'https://cocina-casera.com/wp-content/uploads/2017/11/queso-frito.jpg',\n",
    "                              'https://www.hogarmania.com/archivos/201104/paella-valencia-v-848x477x80xX.jpg',\n",
    "                              'http://www.annarecetasfaciles.com/files/flan-de-huevo-2a-650x366.jpg',\n",
    "                             'http://www.elcorreogallego.es/img/noticias/20080302/coca_117996.jpg']})\n",
    "carta = carta.set_index('nombre')\n",
    "carta = carta.sort_index()\n",
    "carta"
   ]
  },
  {
   "cell_type": "markdown",
   "metadata": {},
   "source": [
    "Como añadir platos a la carta:"
   ]
  },
  {
   "cell_type": "code",
   "execution_count": null,
   "metadata": {
    "collapsed": true
   },
   "outputs": [],
   "source": [
    "#carta.loc['Plato random',['ingredientes','categorias','alergenos','precio']] = [['cacahuetes'],'tapa',['cacahuetes'],1]"
   ]
  },
  {
   "cell_type": "code",
   "execution_count": null,
   "metadata": {
    "collapsed": true
   },
   "outputs": [],
   "source": [
    "#[nombe,ingredientes,categoria,alergenos,precio]\n",
    "platos = [\n",
    "    ['cacahuetes',['cacahuetes'],'tapa',['cacahuetes'],1,'http://2.bp.blogspot.com/_sH2vxqWQ53U/S2VYrmlcwmI/AAAAAAAAAhs/CMVepeRtroc/s400/cacauets2A.JPG'],\n",
    "    ['aceitunas',['aceitunas'],'tapa',[],1,'http://aceitunassalinas.com/wp-content/uploads/2015/09/aceituna-partida-jaen-600x450.jpg'],\n",
    "    ['caracoles',['caracoles'],'tapa',['moluscos'],2.5,'http://restaurantcarmen.com/wp-content/uploads/2014/05/tapa-caracoles-restaurante-carmen.jpg'],\n",
    "    ['pincho tortilla',['huevos','patatas'],'tapa',['huevos'],1.5,'https://media-cdn.tripadvisor.com/media/photo-s/09/24/d6/a9/restaurante-la-morenica.jpg'],\n",
    "    ['Gambas al Ajillo',['Gambas','Ajo'],'entrante',['marisco'],3.5,'http://estoyhechouncocinillas.com/wp-content/uploads/2014/06/gambas_al_ajillo.png'],\n",
    "    ['Sushi de salmón',['arroz','salmón'],'entrante',[],5.2,'https://cocinista-vsf.netdna-ssl.com/download/bancorecursos/recetas/sushi-sake.jpg'],\n",
    "    ['Sushi de gambas',['arroz','gambas'],'entrante',['marisco'],4.5,'http://2.bp.blogspot.com/-m9dxbt47B90/UEWdt98I8jI/AAAAAAAAJTI/Xz5sNFtCJrQ/s1600/381+-+Sushi+de+gamba.jpg'],\n",
    "    ['Pulpo',['Pulpo'],'entrante',['marisco'],8.5,'https://i.ytimg.com/vi/oWjmKhA6NE0/maxresdefault.jpg'],\n",
    "    ['Parrillada de Verduras',['Pimientos','Patatas','Berenjenas'],'primero',[],9.5,'https://i.blogs.es/72da79/parrillada-verduras-perfecta/450_1000.jpg'],\n",
    "    ['Bacalao al Pil-Pil',['Bacalao','pil-pil'],'primero',[],19.3,'http://factorgastronomic.com/wp-content/uploads/2015/01/bacalla-al-pil-pil.jpg'],\n",
    "    ['Sopa de carne',['carne'],'primero',[],8.5,'https://2.bp.blogspot.com/-t_tqFPViLic/VPQ4NoPxDuI/AAAAAAAADqw/0Qr_AFwkt5I/s1600/Caldo%2Bde%2Bres.jpg'],\n",
    "    ['Sopa de pescado',['pescado'],'primero',['pescado'],9.5,'https://unareceta.com/wp-content/uploads/2016/08/receta-sopa-de-pescado-con-patatas.jpg'],\n",
    "    ['Ensalada japonesa',['algas variadas'],'primero',[],3.4,'https://t1.rg.ltmcdn.com/es/images/2/4/2/img_ensalada_japonesa_con_zanahoria_50242_600.jpg'],\n",
    "    ['Huevos Rotos con Patatas',['Huevos','Patatas'],'primero',['huevos'],9.5,'http://3.bp.blogspot.com/-LaQrlL3BWqw/Ut0USYI-t4I/AAAAAAAANZI/ZL7EQmWyW0I/s1600/huevos_rotos_5.JPG'],\n",
    "    ['Solomillo con patatas',['Solomillo','patatas'],'segundo',[],12.5,'https://img.recetascomidas.com/recetas/320_240/solomillo-con-patatas.jpg'],\n",
    "    ['Entrecot con patatas',['Entrecot','patatas'],'segundo',[],15.2,'http://4.bp.blogspot.com/-pzdJhN_NclE/T-oTaHag2XI/AAAAAAAAB3w/3uxNQHG6UHU/s1600/ENTRECOR+1.JPG'],\n",
    "    ['Merluza con patatas',['Merluza','patatas'],'segundo',['pescado'],16.7,'http://alegriaenlacocina.com/wp-content/uploads/2013/08/perca-empanada.jpg'],\n",
    "    ['costillas barbacoa',['costillas de cerdo','salsa barbacoa'],'segundo',[],5.9,'https://canales.okdiario.com/recetas/img/2016/11/07/costillas-cocidas-al-horno-con-salsa-barbacoa-655x368.jpg'],\n",
    "    ['Lomo con patatas',['lomo','patatas'],'segundo',[],5.1,'https://media-cdn.tripadvisor.com/media/photo-s/07/24/e0/d6/lomo-adosado-con-patatas.jpg'],\n",
    "    ['Natillas',['Leche','huevo','canela','azucar'],'postre',['lactosa','huevos'],3.5,'https://canales.okdiario.com/recetas/img/2017/05/16/natillas-caseras-655x368.jpg'],\n",
    "    ['Tarta de Queso',['queso','galletas'],'postre',['lactosa','gluten'],4.8,'https://www.dulcespostres.com/wp-content/uploads/2014/05/Tarta-de-queso-5.jpg'],\n",
    "    ['Macedonia de frutas',['melocotón','melón','naranja','platano','manzana'],'postre',[],2,'https://cocina-casera.com/wp-content/uploads/2012/05/macedonia-frutas-almibar.jpg'],\n",
    "    ['Helado',['chocolate','vainilla','coco','nata','fresa'],'postre',['lactosa'],2.4,'http://cdn2.cocinadelirante.com/sites/default/files/styles/gallerie/public/images/2016/07/helado.jpg'],\n",
    "    ['fanta de naranja',[],'bebida',[],1.2,'http://valsegura.com/wp-content/uploads/2016/02/fanta-naranja-20cl.jpg'],\n",
    "    ['fanta de limón',[],'bebida',[],1.2,'http://www.hielosahy.com/tienda/51-large_default/fanta-naranja-500ml-botella-de-plastico.jpg'],\n",
    "    ['fanta de manzana',[],'bebida',[],1.8,'https://internacionalgourmet.com/9-large_default/refresco-fanta-sabores-a-manzana.jpg'],\n",
    "    ['agua grande',[],'bebida',[],1,'https://www.compraonline.grupoeroski.com/images/152587.jpg'],\n",
    "    ['agua pequeña',[],'bebida',[],0.75,'http://1.bp.blogspot.com/_T-Dt3CPWrJ8/TDAtKXW1CYI/AAAAAAAAAR8/1BGIwjPnfzw/s1600/AGUA+MINERAL+NATURAL.jpg'],\n",
    "    ['café',[],'bebida',[],1.2,'http://static.t13.cl/images/sizes/1200x675/1440370450-150823123913cafesalpicarcafe624x351thinkstocknocredit.jpg']\n",
    "]\n",
    "\n",
    "for nombre,ingredientes,categoria,alergenos,precio,url in platos:\n",
    "    carta.loc[nombre,['ingredientes','categorias','alergenos','precio','url']] = [ingredientes,categoria,alergenos,precio,url]"
   ]
  },
  {
   "cell_type": "code",
   "execution_count": null,
   "metadata": {},
   "outputs": [],
   "source": [
    "carta"
   ]
  },
  {
   "cell_type": "code",
   "execution_count": null,
   "metadata": {
    "collapsed": true
   },
   "outputs": [],
   "source": [
    "def MostrarCarta(bot=mi_bot, update=mi_bot_updater):\n",
    "    respuesta = ''\n",
    "    for categoria in ['tapa', 'bebida','entrante', 'primero', 'segundo', 'postre']:\n",
    "        # Definimos el mensaje de la carta\n",
    "        mensaje = update.message.text\n",
    "        mensaje = mensaje.lower() #Ponemos todo en minúsculas\n",
    "        if 'carta' in mensaje or categoria in mensaje: #Apaño para que salga todo cuando se encuentren la palabra 'carta' \n",
    "                                                       #y la categoría en el mismo mensage\n",
    "            respuesta += '*'+categoria.capitalize()+'*:\\n'\n",
    "            df_aux = carta.loc[carta['categorias'] == categoria,:]\n",
    "            \n",
    "            if df_aux.shape[0] > 0:\n",
    "                for fila_i in range(df_aux.shape[0]):\n",
    "                    respuesta += ' +'+df_aux.index[fila_i].capitalize()+': '+ str(df_aux.iloc[fila_i]['precio'])+' €.\\n'\n",
    "                    \n",
    "                    if Clientes[update.message.chat_id].ver_ingredientes:\n",
    "                        ingredientes = df_aux.iloc[fila_i]['ingredientes']\n",
    "                        if len(ingredientes) > 0:\n",
    "                            respuesta += '    -*Ingredientes:* '\n",
    "                            for ing in ingredientes:\n",
    "                                respuesta += ing.capitalize()+'. '\n",
    "                            respuesta += '\\n' \n",
    "                    if Clientes[update.message.chat_id].ver_alergenos:\n",
    "                        alergenos = df_aux.iloc[fila_i]['alergenos']\n",
    "                        if len(alergenos) > 0:\n",
    "                            respuesta += '    -*Alérgenos:* '\n",
    "                            for al in alergenos:\n",
    "                                respuesta += al.capitalize()+'. '\n",
    "                            respuesta += '\\n'   \n",
    "                    \n",
    "            respuesta += '-'*15+'\\n'\n",
    "        \n",
    "    bot.sendMessage(chat_id=update.message.chat_id, text=respuesta,\n",
    "                        parse_mode=telegram.ParseMode.MARKDOWN)"
   ]
  },
  {
   "cell_type": "code",
   "execution_count": null,
   "metadata": {
    "collapsed": true
   },
   "outputs": [],
   "source": [
    "def ver_alergenos(bot=mi_bot, update=mi_bot_updater):\n",
    "    v = Clientes[update.message.chat_id].ver_alergenos\n",
    "    Clientes[update.message.chat_id].ver_alergenos = not v\n",
    "    bot.send_message(chat_id=update.message.chat_id, text='A partir de ahora'+' *no*'*v +\\\n",
    "                     ' se mostraran todos los alérgenos de los platos.\\n Puede revertir esta opción introduciendo nuevamente el comando /Alergenos.',\n",
    "                        parse_mode=telegram.ParseMode.MARKDOWN)\n",
    "    \n",
    "def ver_ingredientes(bot=mi_bot, update=mi_bot_updater):\n",
    "    v = Clientes[update.message.chat_id].ver_ingredientes\n",
    "    Clientes[update.message.chat_id].ver_ingredientes = not v\n",
    "    bot.send_message(chat_id=update.message.chat_id, text='A partir de ahora'+' *no*'*v +\\\n",
    "                     ' se mostraran todos los ingredientes de los platos.\\n Puede revertir esta opción introduciendo nuevamente el comando /Ingredientes.',\n",
    "                        parse_mode=telegram.ParseMode.MARKDOWN)"
   ]
  },
  {
   "cell_type": "code",
   "execution_count": null,
   "metadata": {
    "collapsed": true
   },
   "outputs": [],
   "source": [
    "def Añadir(bot=mi_bot, update=mi_bot_updater):\n",
    "    Entendido = False #Por si nos dicen algo que no está en la lista\n",
    "    \n",
    "    mensaje = update.message.text\n",
    "    mensaje = mensaje.lower() #Ponemos todo en minúsculas\n",
    "    for plato in carta.index:\n",
    "        # Cantidad de veces que aparece el plato en el mensaje:\n",
    "        c = len(re.findall(plato.lower(), mensaje))\n",
    "        if c>0:\n",
    "            Clientes[update.message.chat_id].AñadirPlato(plato, cantidad = c)\n",
    "            Entendido = True\n",
    "    \n",
    "    if Entendido:\n",
    "        bot.send_message(chat_id=update.message.chat_id, text='¿Desea añadir algo más?')\n",
    "    else:\n",
    "        bot.send_message(chat_id=update.message.chat_id, text='Lo sentimos, el plato seleccionado no está disponible en nuestro restaurante.')"
   ]
  },
  {
   "cell_type": "code",
   "execution_count": null,
   "metadata": {
    "collapsed": true
   },
   "outputs": [],
   "source": [
    "def Quitar(bot=mi_bot, update=mi_bot_updater):\n",
    "    Entendido = False #Por si nos dicen algo que no está en la lista\n",
    "    \n",
    "    mensaje = update.message.text\n",
    "    mensaje = mensaje.lower() #Ponemos todo en minúsculas\n",
    "    \n",
    "    cliente = Clientes[update.message.chat_id]\n",
    "    for plato in cliente.platos_elegidos.keys():\n",
    "        # Cantidad de veces que aparece el plato en el mensaje:\n",
    "        c = len(re.findall(plato.lower(), mensaje))\n",
    "        if c>0:\n",
    "            Clientes[update.message.chat_id].QuitarPlato(plato, cantidad = c)\n",
    "            Entendido = True\n",
    "    \n",
    "    if not Entendido:\n",
    "        bot.send_message(chat_id=update.message.chat_id, text='El plato seleccionado no se encuentra en su cesta.')"
   ]
  },
  {
   "cell_type": "code",
   "execution_count": null,
   "metadata": {
    "collapsed": true
   },
   "outputs": [],
   "source": [
    "def Cesta(bot=mi_bot, update=mi_bot_updater):\n",
    "    if update.message.chat_id in Clientes.keys():\n",
    "        Clientes[update.message.chat_id].PrintSeleccion()\n",
    "    else:\n",
    "        bot.send_message(chat_id=update.message.chat_id, \n",
    "                         text='Aún no le hemos asignado una cesta. Para asignarle una es necesario que se registre(/Registrar).')"
   ]
  },
  {
   "cell_type": "code",
   "execution_count": null,
   "metadata": {
    "collapsed": true
   },
   "outputs": [],
   "source": [
    "def yo(bot=mi_bot, update=mi_bot_updater):\n",
    "    if update.message.chat_id in Clientes.keys():\n",
    "        # Tomamos el cliente\n",
    "        cliente = Clientes[update.message.chat_id]\n",
    "        platos = ''\n",
    "        if len(cliente.platos_elegidos)>0:\n",
    "            for i in cliente.platos_elegidos:\n",
    "                platos += i+'. '\n",
    "        respuesta = 'Los siguientes datos son los datos almacenados en nuestro registro:'+'\\n'+\\\n",
    "        '    -*Id de la conversación:*'+str(update.message.chat_id)+'\\n'+\\\n",
    "        '    -*Listado de platos seleccionados:*'+platos+'\\n'+\\\n",
    "        '    -*Valor actual del pedido:* '+str(cliente.precio)+'€\\n'+\\\n",
    "        '    -*Si desea ver o no los ingredientes y los alérgenos de los platos.*'+'\\n'+\\\n",
    "        '    -*Nombre:* '+cliente.nombre\n",
    "        \n",
    "        bot.send_message(chat_id=update.message.chat_id, text=respuesta,\n",
    "                         parse_mode=telegram.ParseMode.MARKDOWN)\n",
    "    else:\n",
    "        bot.send_message(chat_id=update.message.chat_id, \n",
    "                         text='No se encuentra registrado en este servicio. Se puede registrar mediante /Registrar.')"
   ]
  },
  {
   "cell_type": "code",
   "execution_count": null,
   "metadata": {
    "collapsed": true
   },
   "outputs": [],
   "source": [
    "def DarDeBaja(bot=mi_bot, update=mi_bot_updater):\n",
    "    IdCliente = update.message.chat_id\n",
    "    if IdCliente in Clientes.keys():\n",
    "        cliente = Clientes[update.message.chat_id]\n",
    "        print('\\n'+ '*'*50)\n",
    "        print('\\\"'+cliente.nombre+'\\\" registrado en '+ str(cliente.fecha_ingreso) +' se ha dado de baja de nuestros servicios en \\\"'+str(update.message.date)+'\\\".')\n",
    "        try:\n",
    "            print('Duración: ',update.message.date - cliente.fecha_ingreso,sep = '')\n",
    "        except:\n",
    "            print('Error de fechas.')\n",
    "        print('*'*50)\n",
    "        del Clientes[IdCliente]\n",
    "        bot.send_message(chat_id=update.message.chat_id, text='Se le ha eliminado de nuestra base de datos. Para volver a registrarse recuerde que podía hacerlo mediante /Registrarse o volviendo a iniciar el bot mediante /start.')\n",
    "    else:\n",
    "        bot.send_message(chat_id=update.message.chat_id, text='No se encuentra registrado en nuestra base de datos.')"
   ]
  },
  {
   "cell_type": "code",
   "execution_count": null,
   "metadata": {
    "collapsed": true
   },
   "outputs": [],
   "source": [
    "def Cuenta(bot=mi_bot, update=mi_bot_updater):\n",
    "    \n",
    "    if update.message.chat_id in Clientes.keys():\n",
    "        \n",
    "        if len(Clientes[update.message.chat_id].platos_elegidos)==0:\n",
    "            mensaje = 'No ha elegido platos. \\n'\n",
    "            bot.send_message(chat_id=update.message.chat_id,text=mensaje)\n",
    "        else:\n",
    "            #Guardamos el id del mensaje para luedo asegurarnos de que no ha pedido nada más\n",
    "            Clientes[update.message.chat_id].Id_mensage_compra = update.message.message_id\n",
    "            \n",
    "            location_keyboard = telegram.KeyboardButton(text=\"Sí. Finalizar pedido.\")\n",
    "            contact_keyboard = telegram.KeyboardButton(text=\"No. Seguir pidiendo.\")\n",
    "            custom_keyboard = [[ location_keyboard, contact_keyboard ]]\n",
    "            reply_markup = telegram.ReplyKeyboardMarkup(custom_keyboard)\n",
    "            \n",
    "            mensaje = '*Su pedido contiene los siguientes platos:*\\n'\n",
    "            for plato in Clientes[update.message.chat_id].platos_elegidos.keys():\n",
    "                mensaje += ' -'+plato.capitalize()+' x'+str(Clientes[update.message.chat_id].platos_elegidos[plato])+': '+\\\n",
    "                str(Clientes[update.message.chat_id].platos_elegidos[plato]*carta.loc[plato,'precio'])+'€\\n'\n",
    "                \n",
    "                if Clientes[update.message.chat_id].ver_ingredientes:\n",
    "                    Ingredientes = carta.loc[plato,'ingredientes']\n",
    "                    if len(Ingredientes)> 0:\n",
    "                        mensaje += '    -*Ingredientes:* '\n",
    "                        for ing in Ingredientes:\n",
    "                            mensaje += ing.capitalize() +'. '\n",
    "                        mensaje += '\\n'\n",
    "                    \n",
    "                if Clientes[update.message.chat_id].ver_alergenos:\n",
    "                    Alergenos = carta.loc[plato,'alergenos']\n",
    "                    if len(Alergenos) > 0:\n",
    "                        mensaje += '    -*Alérgenos:* '\n",
    "                        for al in Alergenos:\n",
    "                            mensaje += al.capitalize() +'. '\n",
    "                        mensaje += '\\n'\n",
    "                    \n",
    "                \n",
    "                    \n",
    "            mensaje += '-'*20+'\\n'\n",
    "            mensaje += \"*Importe Total:* \" +str(Clientes[update.message.chat_id].precio)+' €'\n",
    "            \n",
    "            mensaje += '\\n'+'='*30+'\\n'\n",
    "            mensaje += '*¿Todos los datos son correctos?*'\n",
    "            bot.send_message(chat_id=update.message.chat_id, \n",
    "                             text=mensaje, \n",
    "                             reply_markup=reply_markup,\n",
    "                             parse_mode=telegram.ParseMode.MARKDOWN)\n",
    "    else:\n",
    "        bot.send_message(chat_id=update.message.chat_id, \n",
    "                         text=\"No podelos tramitar su pedido si *no* se encuentra registrado.\",\n",
    "                        parse_mode=telegram.ParseMode.MARKDOWN)\n",
    "        "
   ]
  },
  {
   "cell_type": "code",
   "execution_count": null,
   "metadata": {
    "collapsed": true
   },
   "outputs": [],
   "source": [
    "def SeguirComprando(bot=mi_bot, update=mi_bot_updater):\n",
    "    Clientes[update.message.chat_id].Id_mensage_compra = None\n",
    "    reply_markup = telegram.ReplyKeyboardRemove()\n",
    "    bot.send_message(chat_id=update.message.chat_id, text=\"Recuerde que puede mirar la carta con /Carta.\",\n",
    "                     reply_markup=reply_markup)"
   ]
  },
  {
   "cell_type": "code",
   "execution_count": null,
   "metadata": {
    "collapsed": true
   },
   "outputs": [],
   "source": [
    "def TramitarCompra(bot=mi_bot, update=mi_bot_updater):\n",
    "    reply_markup = telegram.ReplyKeyboardRemove()\n",
    "    #Si el último mensaje que ha mandao no ha sio el de /Cuenta #\n",
    "    if update.message.message_id != Clientes[update.message.chat_id].Id_mensage_compra+2:\n",
    "        Clientes[update.message.chat_id].Id_mensage_compra = None\n",
    "        bot.send_message(chat_id=update.message.chat_id, \n",
    "                         text=\"Ha ocurrido un error durante la tramitación. Por favor, vuelva a intentar solicitar la /Cuenta.\",\n",
    "                         reply_markup=reply_markup)\n",
    "    else:\n",
    "        #Cliente[update.message.chat_id].Comprar(fecha = update.message.date)\n",
    "        print('\\n'+'*'*50)\n",
    "        cliente = Clientes[update.message.chat_id]\n",
    "        print('Demandante del pedido:'+cliente.nombre)\n",
    "        print('Importe total del pedido: '+str(cliente.precio)+' €')\n",
    "        print('-'*25)\n",
    "        print('Contenido del pedido:')\n",
    "        for plato in cliente.platos_elegidos.keys():\n",
    "            print(' -'+plato.capitalize()+' x'+str(cliente.platos_elegidos[plato])+': '+str(cliente.platos_elegidos[plato]*carta.loc[plato,'precio'])+'€')       \n",
    "        print('-'*25)\n",
    "        # Este trozo de código es para notificar al propietario/recepcionista del restaurante la información del pedido:\n",
    "        print('Fecha en la que se solicitó el pedido:'+str(update.message.date))\n",
    "        print('*'*50+'\\n')\n",
    "        \n",
    "        #Le eliminamos la selección realizada para que no pida lo mismo por accidente\n",
    "        cliente.precio = 0\n",
    "        cliente.platos_elegidos = {}\n",
    "        \n",
    "        bot.send_message(chat_id=update.message.chat_id, \n",
    "                         text=\"Su encargo será atendido en breves. Gracias por utilizar el servicio telemático de nuestro restaurante.\",\n",
    "                         reply_markup=reply_markup)"
   ]
  },
  {
   "cell_type": "code",
   "execution_count": null,
   "metadata": {
    "collapsed": true
   },
   "outputs": [],
   "source": [
    "def Ejemplos(bot=mi_bot, update=mi_bot_updater):\n",
    "    ejemplos = '*Ejemplos de posibles comandos:*'+'\\n'+\\\n",
    "    '\\n'+\\\n",
    "    '-/Alergenos: Se mostrarán los alergenos de los platos.'+'\\n'+\\\n",
    "    '\\n'+\\\n",
    "    '-/Ingredientes: Se mostrarán los ingredientes de los platos.'+'\\n'+\\\n",
    "    '\\n'+\\\n",
    "    '_-Quiero un flan:_ Añadirá un flan a la cesta.'+'\\n'+\\\n",
    "    '\\n'+\\\n",
    "    '_-¿Me puedes añadir una cocacola y un flan?:_ Añadirá otro flan y una cocacola a la cesta.'+'\\n'+\\\n",
    "    '\\n'+\\\n",
    "    '_-Quitame un flan:_ Quitará un flan de la lista.'+'\\n'+\\\n",
    "    '\\n'+\\\n",
    "    '_-No quiero la cocacola:_ Quitará una cocacola de la lista.'+'\\n'+\\\n",
    "    '\\n'+\\\n",
    "    '_-Muéstrame la carta:_ Aparecerá el resumen de la carta(Si /Ingredientes y\\\\o /Alergenos se encuentran activados estos también se mostrarán).'+'\\n'+\\\n",
    "    '\\n'+\\\n",
    "    '_-Muéstrame los primeros y los postres:_ Solo aparecerá las secciones de primeros y postres.'+'\\n'+\\\n",
    "    '\\n'+\\\n",
    "    '_-Quiero que me muestres los primeros:_ Se mostrará nuestra sección de primeros platos.'+'\\n'+\\\n",
    "    '\\n'+\\\n",
    "    '_-¿Qué hay de postre?:_ Muestra la sección de postres.'+'\\n'+\\\n",
    "    '\\n'+\\\n",
    "    '_-Mándame una foto de los cacahuetes:_ El sistema manda una foto de los cacahuetes.'+'\\n'+\\\n",
    "    '\\n'+\\\n",
    "    '_-Foto de las aceitunas:_ El sistema manda una foto de las aceitunas.'+'\\n'+\\\n",
    "    '\\n'+\\\n",
    "    '_-/Pista:_ El bot te manda una instrucción a modo de ejemplo.'+'\\n'+\\\n",
    "    '\\n'+\\\n",
    "    '_-Recomiendame algún plato:_ El bot manda una foto de un plato de la carta junto con su nombre.'+'\\n'+\\\n",
    "    '\\n'+\\\n",
    "    '_-Recomiendame un plato con patatas:_ El bot manda una foto de un plato de la carta que lleve patatas junto con su nombre.'\n",
    "    \n",
    "    bot.send_message(chat_id=update.message.chat_id, \n",
    "                     text=ejemplos,\n",
    "                     parse_mode=telegram.ParseMode.MARKDOWN)"
   ]
  },
  {
   "cell_type": "code",
   "execution_count": null,
   "metadata": {
    "collapsed": true
   },
   "outputs": [],
   "source": [
    "def EnviarFoto(bot=mi_bot, update=mi_bot_updater):\n",
    "    \n",
    "    mensaje = update.message.text\n",
    "    mensaje = mensaje.lower() #Ponemos todo en minúsculas\n",
    "    \n",
    "    for plato in carta.index:\n",
    "        if plato.lower() in mensaje:\n",
    "            # Enviamos la foto desde la url\n",
    "            bot.send_photo(chat_id=update.message.chat_id, photo=carta.loc[plato,'url'],caption = 'Foto de '+plato.capitalize())"
   ]
  },
  {
   "cell_type": "code",
   "execution_count": null,
   "metadata": {
    "collapsed": true
   },
   "outputs": [],
   "source": [
    "def Pista(bot=mi_bot, update=mi_bot_updater):\n",
    "    pistas = ['Muéstrame las bebidas, las tapas y los postres',\n",
    "             'Quiero ver la carta',\n",
    "             '/Alergenos porque quiero ver los platos que llevan gluten',\n",
    "             'Quiero una cocacola y unos cacahuetes',\n",
    "             'No quiero la cocacola',\n",
    "             'Mándame la foto del flan',\n",
    "             'Recomiéndame un plato que lleve queso.',\n",
    "             'Muéstrame las bebidas',\n",
    "             'Quiero un flan',\n",
    "             '¿Me puedes añadir una cocacola y un flan?',\n",
    "             'Quítame un flan',\n",
    "             'Muéstrame la carta',\n",
    "             'Muéstrame los primeros y los postres',\n",
    "             'Quiero que me muestres los primeros',\n",
    "             '¿Qué hay de postre?',\n",
    "             'Mándame una foto de los cacahuetes',\n",
    "             'Foto de las aceitunas',\n",
    "             'Recomiéndame algún plato',\n",
    "             'Recomiéndame un plato con patatas',\n",
    "             '/Cesta para ver lo que llevo encargado']\n",
    "    \n",
    "    \n",
    "    bot.send_message(chat_id=update.message.chat_id, \n",
    "                     text=np.random.choice(pistas))"
   ]
  },
  {
   "cell_type": "code",
   "execution_count": null,
   "metadata": {
    "collapsed": true
   },
   "outputs": [],
   "source": [
    "def Recomendar(bot=mi_bot, update=mi_bot_updater):\n",
    "    # Platos que podemos elegir\n",
    "    Platos_Posibles = []\n",
    "    \n",
    "    mensaje = update.message.text\n",
    "    mensaje = mensaje.lower() #Ponemos todo en minúsculas\n",
    "    \n",
    "    for plato in carta.index:\n",
    "        for ingrediente in carta.loc[plato,'ingredientes']:\n",
    "            if ingrediente.lower() in mensaje:\n",
    "                Platos_Posibles.append(plato)\n",
    "   \n",
    "    if len(Platos_Posibles)>0:\n",
    "        plato = np.random.choice(Platos_Posibles)\n",
    "        bot.send_photo(chat_id=update.message.chat_id, photo=carta.loc[plato,'url'],caption = 'Le recomendamos: '+plato.capitalize())\n",
    "    else:\n",
    "        plato = np.random.choice(carta.index)\n",
    "        bot.send_photo(chat_id=update.message.chat_id, photo=carta.loc[plato,'url'],caption = 'Le recomendamos: '+plato.capitalize())"
   ]
  },
  {
   "cell_type": "code",
   "execution_count": null,
   "metadata": {
    "collapsed": true
   },
   "outputs": [],
   "source": [
    "#Definimos para cada comando la función que atenderá la peticion\n",
    "start_handler = CommandHandler('Start', Start)\n",
    "\n",
    "ayuda_handler = CommandHandler('?', ayuda)\n",
    "ayuda2_handler = CommandHandler('Ayuda', ayuda)\n",
    "Ejemplos_handler = CommandHandler('Ejemplos', Ejemplos)\n",
    "Pista_handler = CommandHandler('Pista', Pista)\n",
    "\n",
    "Recomendar_handler = telegram.ext.RegexHandler('(.*[R|r]ecom)',Recomendar)\n",
    "\n",
    "RegistrarCliente_handler = CommandHandler('Registrar', RegistrarCliente)\n",
    "MostrarCarta_handler = telegram.ext.RegexHandler('(.*[C|c]arta)|(.*[T|t]apa)|(.*[E|e]ntrante)|(.*[P|p]rimero)|(.*[S|s]egundo)|(.*[P|p]ostre)|(.*[B|b]ebida)',MostrarCarta)\n",
    "\n",
    "Ingredientes_handler = CommandHandler('Ingredientes', ver_ingredientes)\n",
    "Alergenos_handler = CommandHandler('Alergenos', ver_alergenos)\n",
    "\n",
    "Foto_handler = telegram.ext.RegexHandler('(.*[F|f]oto)',EnviarFoto)\n",
    "\n",
    "Añadir_handler = telegram.ext.RegexHandler('(.*[A|a](ñad))|(.*(?<![N|n]o\\s)[Q|q]uiero)',Añadir)\n",
    "Quitar_handler = telegram.ext.RegexHandler('(.*[Q|q](uit))|(.*(?<=[N|n]o\\s)[Q|q]uiero)',Quitar)\n",
    "Cesta_handler = CommandHandler('Cesta', Cesta)\n",
    "\n",
    "Yo_handler = CommandHandler('Yo', yo)\n",
    "Eliminar_handler = CommandHandler('Eliminarme', DarDeBaja)\n",
    "\n",
    "Cueta_handler = CommandHandler(\"Cuenta\",Cuenta)\n",
    "SeguirComprando_handler = telegram.ext.RegexHandler(\"No\\. Seguir pidiendo\\.\",SeguirComprando)\n",
    "TramitarCompra_handler = telegram.ext.RegexHandler(\"Sí\\. Finalizar pedido\\.\",TramitarCompra)"
   ]
  },
  {
   "cell_type": "code",
   "execution_count": null,
   "metadata": {
    "collapsed": true
   },
   "outputs": [],
   "source": [
    "dispatcher = mi_bot_updater.dispatcher\n",
    "\n",
    "dispatcher.add_handler(start_handler)\n",
    "dispatcher.add_handler(ayuda_handler)\n",
    "dispatcher.add_handler(ayuda2_handler)\n",
    "dispatcher.add_handler(Ejemplos_handler)\n",
    "dispatcher.add_handler(Pista_handler)\n",
    "\n",
    "dispatcher.add_handler(RegistrarCliente_handler)\n",
    "dispatcher.add_handler(MostrarCarta_handler)\n",
    "\n",
    "dispatcher.add_handler(Foto_handler)\n",
    "dispatcher.add_handler(Recomendar_handler)\n",
    "\n",
    "dispatcher.add_handler(Ingredientes_handler)\n",
    "dispatcher.add_handler(Alergenos_handler)\n",
    "dispatcher.add_handler(Quitar_handler)\n",
    "dispatcher.add_handler(Añadir_handler)\n",
    "\n",
    "dispatcher.add_handler(Cesta_handler)\n",
    "dispatcher.add_handler(Yo_handler)\n",
    "dispatcher.add_handler(Eliminar_handler)\n",
    "\n",
    "dispatcher.add_handler(Cueta_handler)\n",
    "dispatcher.add_handler(SeguirComprando_handler)\n",
    "dispatcher.add_handler(TramitarCompra_handler)"
   ]
  },
  {
   "cell_type": "code",
   "execution_count": null,
   "metadata": {
    "scrolled": false
   },
   "outputs": [],
   "source": [
    "mi_bot_updater.start_polling()"
   ]
  },
  {
   "cell_type": "code",
   "execution_count": null,
   "metadata": {
    "collapsed": true
   },
   "outputs": [],
   "source": [
    "mi_bot_updater.stop()\n",
    "dispatcher.handlers = {0: []}\n",
    "#Clientes = {}"
   ]
  },
  {
   "cell_type": "code",
   "execution_count": null,
   "metadata": {},
   "outputs": [],
   "source": [
    "Clientes"
   ]
  },
  {
   "cell_type": "code",
   "execution_count": null,
   "metadata": {},
   "outputs": [],
   "source": [
    "v = Clientes[393325618]\n",
    "v.nombre"
   ]
  },
  {
   "cell_type": "code",
   "execution_count": null,
   "metadata": {},
   "outputs": [],
   "source": [
    "np.save('Clientes.npy',Clientes)"
   ]
  },
  {
   "cell_type": "code",
   "execution_count": null,
   "metadata": {
    "collapsed": true
   },
   "outputs": [],
   "source": [
    "v = np.load('Clientes.npy')"
   ]
  },
  {
   "cell_type": "code",
   "execution_count": null,
   "metadata": {},
   "outputs": [],
   "source": [
    "v"
   ]
  }
 ],
 "metadata": {
  "kernelspec": {
   "display_name": "Python 3",
   "language": "python",
   "name": "python3"
  },
  "language_info": {
   "codemirror_mode": {
    "name": "ipython",
    "version": 3
   },
   "file_extension": ".py",
   "mimetype": "text/x-python",
   "name": "python",
   "nbconvert_exporter": "python",
   "pygments_lexer": "ipython3",
   "version": "3.6.8"
  }
 },
 "nbformat": 4,
 "nbformat_minor": 2
}
